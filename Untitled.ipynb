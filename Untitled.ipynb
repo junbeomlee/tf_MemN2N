{
 "cells": [
  {
   "cell_type": "code",
   "execution_count": 1,
   "metadata": {},
   "outputs": [
    {
     "name": "stderr",
     "output_type": "stream",
     "text": [
      "/Library/Frameworks/Python.framework/Versions/3.6/lib/python3.6/importlib/_bootstrap.py:219: RuntimeWarning: compiletime version 3.5 of module 'tensorflow.python.framework.fast_tensor_util' does not match runtime version 3.6\n",
      "  return f(*args, **kwds)\n"
     ]
    }
   ],
   "source": [
    "import tensorflow as tf\n",
    "import numpy as np"
   ]
  },
  {
   "cell_type": "code",
   "execution_count": 2,
   "metadata": {},
   "outputs": [
    {
     "data": {
      "text/plain": [
       "'1.4.0'"
      ]
     },
     "execution_count": 2,
     "metadata": {},
     "output_type": "execute_result"
    }
   ],
   "source": [
    "tf.__version__"
   ]
  },
  {
   "cell_type": "code",
   "execution_count": 4,
   "metadata": {},
   "outputs": [],
   "source": [
    "tf.reset_default_graph()\n",
    "sess = tf.InteractiveSession()"
   ]
  },
  {
   "cell_type": "code",
   "execution_count": 14,
   "metadata": {},
   "outputs": [],
   "source": [
    "#vocToInt가 이미 진행된 상태라고 가정\n",
    "#각각의 정수들은 특정 단어들을 의미 한다.\n",
    "#샘플데이터의 인풋은 문장이며, 각 문장은 4개의 단어로 구성되어있다.\n",
    "\n",
    "voca_size = 11\n",
    "story = [[6,2,3,4],\n",
    "         [5,2,9,10],\n",
    "         [4,0,6,7],\n",
    "         [7,2,3,4],\n",
    "         [8,2,5,3],\n",
    "         [1,0,5,3]]\n",
    "\n",
    "query = [[1,2,3,4],\n",
    "       [5,2,9,10],\n",
    "       [3,0,6,7]]\n",
    "\n",
    "answer = [[5,3,1,2],\n",
    "        [9,3,7,2],\n",
    "        [6,4,2,2]]\n",
    "\n",
    "batch_size = len(story)\n",
    "embedding_size = 6"
   ]
  },
  {
   "cell_type": "code",
   "execution_count": 15,
   "metadata": {},
   "outputs": [],
   "source": [
    "input_story = tf.placeholder(shape=[batch_size,4],dtype=tf.int32)\n",
    "input_query = tf.placeholder(shape=[None,4],dtype=tf.int32)\n",
    "input_answer = tf.placeholder(shape=[None,4],dtype=tf.int32)"
   ]
  },
  {
   "cell_type": "code",
   "execution_count": 21,
   "metadata": {},
   "outputs": [],
   "source": [
    "#embedding A matrix\n",
    "#문장 ={단어1, 단어2, 단어3, ...} -> 하나의 memory vector로 변환해야한다.\n",
    "#메모리 = sum(A문장) (A는 embedding_matrix)\n",
    "\n",
    "embeddings_A = tf.Variable(tf.random_uniform([voca_size, embedding_size], -1.0, 1.0), dtype=tf.float32)\n",
    "embedded_X = tf.nn.embedding_lookup(embeddings_A, input_story)"
   ]
  },
  {
   "cell_type": "code",
   "execution_count": 22,
   "metadata": {},
   "outputs": [],
   "source": [
    "#메모리로 변환\n",
    "memory = tf.reduce_sum(embedded_X,1)"
   ]
  },
  {
   "cell_type": "code",
   "execution_count": 23,
   "metadata": {},
   "outputs": [
    {
     "data": {
      "text/plain": [
       "<tf.Tensor 'Sum_2:0' shape=(6, 6) dtype=float32>"
      ]
     },
     "execution_count": 23,
     "metadata": {},
     "output_type": "execute_result"
    }
   ],
   "source": [
    "memory"
   ]
  },
  {
   "cell_type": "code",
   "execution_count": null,
   "metadata": {},
   "outputs": [],
   "source": []
  }
 ],
 "metadata": {
  "kernelspec": {
   "display_name": "Python 3",
   "language": "python",
   "name": "python3"
  },
  "language_info": {
   "codemirror_mode": {
    "name": "ipython",
    "version": 3
   },
   "file_extension": ".py",
   "mimetype": "text/x-python",
   "name": "python",
   "nbconvert_exporter": "python",
   "pygments_lexer": "ipython3",
   "version": "3.6.3"
  }
 },
 "nbformat": 4,
 "nbformat_minor": 2
}
