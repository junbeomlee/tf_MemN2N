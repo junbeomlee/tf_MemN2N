{
 "cells": [
  {
   "cell_type": "code",
   "execution_count": 395,
   "metadata": {},
   "outputs": [],
   "source": [
    "import tensorflow as tf\n",
    "import numpy as np"
   ]
  },
  {
   "cell_type": "code",
   "execution_count": 396,
   "metadata": {},
   "outputs": [
    {
     "data": {
      "text/plain": [
       "'1.4.0'"
      ]
     },
     "execution_count": 396,
     "metadata": {},
     "output_type": "execute_result"
    }
   ],
   "source": [
    "tf.__version__"
   ]
  },
  {
   "cell_type": "code",
   "execution_count": 397,
   "metadata": {},
   "outputs": [],
   "source": [
    "tf.reset_default_graph()\n",
    "sess = tf.InteractiveSession()"
   ]
  },
  {
   "cell_type": "code",
   "execution_count": 398,
   "metadata": {},
   "outputs": [],
   "source": [
    "#vocToInt가 이미 진행된 상태라고 가정\n",
    "#각각의 정수들은 특정 단어들을 의미 한다.\n",
    "#샘플데이터의 인풋은 문장이며, 각 문장은 4개의 단어로 구성되어있다.\n",
    "\n",
    "voca_size = 11\n",
    "story = [[6,2,3,4],\n",
    "         [5,2,9,10],\n",
    "         [4,0,6,7],\n",
    "         [7,2,3,4],\n",
    "         [8,2,5,3]]\n",
    "\n",
    "query = [1,2,3,4]\n",
    "\n",
    "# query = [[1,2,3,4],\n",
    "#        [5,2,9,10],\n",
    "#        [3,0,6,7]]\n",
    "\n",
    "answer = [10]\n",
    "\n",
    "# answer = [[5,3,1,2],\n",
    "#         [9,3,7,2],\n",
    "#         [6,4,2,2]]\n",
    "\n",
    "batch_size = len(story)\n",
    "embedding_size = 6"
   ]
  },
  {
   "cell_type": "code",
   "execution_count": 399,
   "metadata": {},
   "outputs": [],
   "source": [
    "input_story = tf.placeholder(shape=[batch_size,4],dtype=tf.int32)\n",
    "input_query = tf.placeholder(shape=[4],dtype=tf.int32)\n",
    "input_answer = tf.placeholder(shape=[1],dtype=tf.int32)"
   ]
  },
  {
   "cell_type": "markdown",
   "metadata": {},
   "source": [
    "# input memory"
   ]
  },
  {
   "cell_type": "code",
   "execution_count": 400,
   "metadata": {},
   "outputs": [],
   "source": [
    "#embedding A matrix\n",
    "#문장 ={단어1, 단어2, 단어3, ...} -> 하나의 memory vector로 변환해야한다.\n",
    "#메모리 = sum(A문장) (A는 embedding_matrix)\n",
    "embeddings_A = tf.Variable(tf.random_uniform([voca_size, embedding_size], -1.0, 1.0), dtype=tf.float32)\n",
    "embedded_X = tf.nn.embedding_lookup(embeddings_A, input_story)"
   ]
  },
  {
   "cell_type": "code",
   "execution_count": 401,
   "metadata": {},
   "outputs": [
    {
     "data": {
      "text/plain": [
       "<tf.Tensor 'embedding_lookup:0' shape=(5, 4, 6) dtype=float32>"
      ]
     },
     "execution_count": 401,
     "metadata": {},
     "output_type": "execute_result"
    }
   ],
   "source": [
    "embedded_X"
   ]
  },
  {
   "cell_type": "code",
   "execution_count": 402,
   "metadata": {},
   "outputs": [],
   "source": [
    "#메모리로 변환\n",
    "input_memory = tf.reduce_sum(embedded_X,1)"
   ]
  },
  {
   "cell_type": "code",
   "execution_count": 403,
   "metadata": {},
   "outputs": [
    {
     "data": {
      "text/plain": [
       "<tf.Tensor 'Sum:0' shape=(5, 6) dtype=float32>"
      ]
     },
     "execution_count": 403,
     "metadata": {},
     "output_type": "execute_result"
    }
   ],
   "source": [
    "input_memory"
   ]
  },
  {
   "cell_type": "markdown",
   "metadata": {},
   "source": [
    "# query"
   ]
  },
  {
   "cell_type": "code",
   "execution_count": 404,
   "metadata": {},
   "outputs": [],
   "source": [
    "embeddings_B = tf.Variable(tf.random_uniform([voca_size, embedding_size], -1.0, 1.0), dtype=tf.float32)"
   ]
  },
  {
   "cell_type": "code",
   "execution_count": 405,
   "metadata": {},
   "outputs": [],
   "source": [
    "embedded_Q = tf.nn.embedding_lookup(embeddings_A, query)"
   ]
  },
  {
   "cell_type": "code",
   "execution_count": 406,
   "metadata": {},
   "outputs": [
    {
     "data": {
      "text/plain": [
       "<tf.Tensor 'embedding_lookup_1:0' shape=(4, 6) dtype=float32>"
      ]
     },
     "execution_count": 406,
     "metadata": {},
     "output_type": "execute_result"
    }
   ],
   "source": [
    "embedded_Q"
   ]
  },
  {
   "cell_type": "code",
   "execution_count": 407,
   "metadata": {},
   "outputs": [],
   "source": [
    "#query -> internal state\n",
    "internal_state = tf.reduce_sum(embedded_Q,axis=0)"
   ]
  },
  {
   "cell_type": "code",
   "execution_count": null,
   "metadata": {},
   "outputs": [],
   "source": []
  },
  {
   "cell_type": "markdown",
   "metadata": {},
   "source": [
    "# output memory"
   ]
  },
  {
   "cell_type": "code",
   "execution_count": 408,
   "metadata": {},
   "outputs": [],
   "source": [
    "embeddings_C = tf.Variable(tf.random_uniform([voca_size, embedding_size], -1.0, 1.0), dtype=tf.float32)\n",
    "embedded_C = tf.nn.embedding_lookup(embeddings_C, input_story)\n",
    "output_memory = tf.reduce_sum(embedded_C,1)"
   ]
  },
  {
   "cell_type": "code",
   "execution_count": 409,
   "metadata": {},
   "outputs": [
    {
     "data": {
      "text/plain": [
       "<tf.Tensor 'Sum_2:0' shape=(5, 6) dtype=float32>"
      ]
     },
     "execution_count": 409,
     "metadata": {},
     "output_type": "execute_result"
    }
   ],
   "source": [
    "output_memory"
   ]
  },
  {
   "cell_type": "code",
   "execution_count": 410,
   "metadata": {},
   "outputs": [
    {
     "data": {
      "text/plain": [
       "<tf.Tensor 'stack:0' shape=(1, 5, 6) dtype=float32>"
      ]
     },
     "execution_count": 410,
     "metadata": {},
     "output_type": "execute_result"
    }
   ],
   "source": [
    "tf.stack([output_memory])"
   ]
  },
  {
   "cell_type": "markdown",
   "metadata": {},
   "source": [
    "# build model combining output,input memory and query"
   ]
  },
  {
   "cell_type": "code",
   "execution_count": 411,
   "metadata": {},
   "outputs": [
    {
     "data": {
      "text/plain": [
       "<tf.Tensor 'Reshape_1:0' shape=<unknown> dtype=float32>"
      ]
     },
     "execution_count": 411,
     "metadata": {},
     "output_type": "execute_result"
    }
   ],
   "source": [
    "# 1. internal_state와 input_memory를 dot product\n",
    "# 2. 1의 결과에 softmax\n",
    "# 3. 2의 결과 * output_memory\n",
    "# 4. Softmax(W*(3의 결과 + internal_State))\n",
    "\n",
    "W = tf.get_variable(shape=[embedding_size,voca_size],name=\"W\")\n",
    "p = tf.nn.softmax(tf.tensordot(input_memory,internal_state,axes=1))\n",
    "p"
   ]
  },
  {
   "cell_type": "code",
   "execution_count": 412,
   "metadata": {},
   "outputs": [
    {
     "data": {
      "text/plain": [
       "<tf.Tensor 'MatMul:0' shape=(?, 6) dtype=float32>"
      ]
     },
     "execution_count": 412,
     "metadata": {},
     "output_type": "execute_result"
    }
   ],
   "source": [
    "o = tf.matmul(tf.stack([p]),output_memory)\n",
    "o"
   ]
  },
  {
   "cell_type": "code",
   "execution_count": 413,
   "metadata": {},
   "outputs": [],
   "source": [
    "sess.run(tf.global_variables_initializer())"
   ]
  },
  {
   "cell_type": "code",
   "execution_count": 414,
   "metadata": {},
   "outputs": [
    {
     "name": "stdout",
     "output_type": "stream",
     "text": [
      "[[ 0.81834495 -1.13741231  0.42311719 -2.56194639 -1.20918143  0.28953165]]\n"
     ]
    }
   ],
   "source": [
    "print(sess.run(o,feed_dict={input_story:story,input_query:query,input_answer:answer}))"
   ]
  },
  {
   "cell_type": "code",
   "execution_count": 415,
   "metadata": {},
   "outputs": [],
   "source": [
    "output = tf.nn.softmax(tf.matmul((internal_state + o),W))\n",
    "prediction = tf.argmax(output,1)"
   ]
  },
  {
   "cell_type": "code",
   "execution_count": 416,
   "metadata": {},
   "outputs": [
    {
     "name": "stdout",
     "output_type": "stream",
     "text": [
      "[[ 0.06417706  0.01022425  0.05011679  0.10702934  0.01468286  0.06135418\n",
      "   0.19410521  0.24148077  0.03496668  0.13379157  0.08807131]]\n",
      "[7]\n"
     ]
    }
   ],
   "source": [
    "print(sess.run(output,feed_dict={input_story:story,input_query:query,input_answer:answer}))\n",
    "print(sess.run(prediction,feed_dict={input_story:story,input_query:query,input_answer:answer}))"
   ]
  },
  {
   "cell_type": "markdown",
   "metadata": {},
   "source": [
    "## 샘플데이터만을 사용했기 때문에 따로 학습하는 부분을 추가하지 않았고 모델만 구현한 예제 입니다."
   ]
  },
  {
   "cell_type": "code",
   "execution_count": null,
   "metadata": {},
   "outputs": [],
   "source": []
  }
 ],
 "metadata": {
  "kernelspec": {
   "display_name": "Python 3",
   "language": "python",
   "name": "python3"
  },
  "language_info": {
   "codemirror_mode": {
    "name": "ipython",
    "version": 3
   },
   "file_extension": ".py",
   "mimetype": "text/x-python",
   "name": "python",
   "nbconvert_exporter": "python",
   "pygments_lexer": "ipython3",
   "version": "3.6.3"
  }
 },
 "nbformat": 4,
 "nbformat_minor": 2
}
